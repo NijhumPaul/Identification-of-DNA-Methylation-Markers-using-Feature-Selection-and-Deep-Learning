{
 "cells": [
  {
   "cell_type": "code",
   "execution_count": 1,
   "id": "ed6ebd2c",
   "metadata": {},
   "outputs": [],
   "source": [
    "import pandas as pd\n",
    "import codecs"
   ]
  },
  {
   "cell_type": "markdown",
   "id": "4aec2bcb",
   "metadata": {},
   "source": [
    "Gene list of reduced features"
   ]
  },
  {
   "cell_type": "code",
   "execution_count": 2,
   "id": "dfec8169",
   "metadata": {},
   "outputs": [],
   "source": [
    "overall_27k = pd.read_csv(\"data/genes_long_format/sure/27k_All.csv\")\n",
    "#print(ANOVA_RF_df.head)\n",
    "overall_27k_genes = set(list(overall_27k[\"Gene_Symbol\"]))\n",
    "\n",
    "overall_450k = pd.read_csv(\"data/genes_long_format/sure/450k_All.csv\")\n",
    "#print(ANOVA_RF_df.head)\n",
    "overall_450k_genes = set(list(overall_450k[\"Gene_Symbol\"]))\n",
    "\n",
    "ANOVA_RF_df_450s = pd.read_csv(\"data/genes_long_format/sure/450_sim_AnovaRF_markerData_wSMOTE.csv\")\n",
    "#print(ANOVA_RF_df.head)\n",
    "ANOVA_RF_genes_450s = set(list(ANOVA_RF_df_450s[\"Gene_Symbol\"]))\n",
    "\n",
    "ANOVA_RF_df_450wos = pd.read_csv(\"data/genes_long_format/sure/450_sim_AnovaRF_markerData_woSMOTE.csv\")\n",
    "#print(ANOVA_RF_df.head)\n",
    "ANOVA_RF_genes_450wos = set(list(ANOVA_RF_df_450wos[\"Gene_Symbol\"]))\n",
    "#print(len(ANOVA_RF_genes_450wos))\n",
    "ANOVA_RF_df_27s = pd.read_csv(\"data/genes_long_format/sure/27_sim_AnovaRF_markerData_wSMOTE.csv\")\n",
    "#print(ANOVA_RF_df.head)\n",
    "ANOVA_RF_genes_27s = set(list(ANOVA_RF_df_27s[\"Gene_Symbol\"]))\n",
    "\n",
    "ANOVA_RF_df_27wos = pd.read_csv(\"data/genes_long_format/sure/27_sim_AnovaRF_markerData_woSMOTE.csv\")\n",
    "#print(ANOVA_RF_df.head)\n",
    "ANOVA_RF_genes_27wos = set(list(ANOVA_RF_df_27wos[\"Gene_Symbol\"]))\n"
   ]
  },
  {
   "cell_type": "markdown",
   "id": "e752adde",
   "metadata": {},
   "source": [
    "Common genes in 27k and 450k dataset"
   ]
  },
  {
   "cell_type": "code",
   "execution_count": 3,
   "id": "a81ce940",
   "metadata": {},
   "outputs": [
    {
     "name": "stdout",
     "output_type": "stream",
     "text": [
      "1572\n",
      "685\n",
      "common genes of 27k smote and 450k smote: 52\n",
      "1208\n",
      "470\n",
      "common genes of 27k without smote and 450k without smote: 34\n"
     ]
    }
   ],
   "source": [
    "common_27_450_smote_genes = list(set(ANOVA_RF_genes_450s).intersection(ANOVA_RF_genes_27s))\n",
    "print(len(ANOVA_RF_genes_450s))\n",
    "print(len(ANOVA_RF_genes_27s))\n",
    "print(\"common genes of 27k smote and 450k smote:\",len(common_27_450_smote_genes))\n",
    "\n",
    "common_27_450_wosmote_genes = list(set(ANOVA_RF_genes_450wos).intersection(ANOVA_RF_genes_27wos))\n",
    "print(len(ANOVA_RF_genes_450wos))\n",
    "print(len(ANOVA_RF_genes_27wos))\n",
    "print(\"common genes of 27k without smote and 450k without smote:\", len(common_27_450_wosmote_genes))"
   ]
  },
  {
   "cell_type": "markdown",
   "id": "48e7197d",
   "metadata": {},
   "source": [
    "Gene list from COSMIC"
   ]
  },
  {
   "cell_type": "code",
   "execution_count": 5,
   "id": "5f193576",
   "metadata": {},
   "outputs": [
    {
     "name": "stdout",
     "output_type": "stream",
     "text": [
      "Gene list from Gene_Symbol: 321\n",
      "Gene list from Synonym: 2172\n"
     ]
    }
   ],
   "source": [
    "census = pd.read_csv(\"data/Census_All[22180]_Long.csv\")\n",
    "census_genes = list(census[\"Gene Symbol\"])\n",
    "census_genes_synonym = list(census[\"Synonym\"])\n",
    "\n",
    "print(\"Gene list from Gene_Symbol:\",len(set(census_genes)))\n",
    "print(\"Gene list from Synonym:\",len(set(census_genes_synonym))) #used this column for analysis"
   ]
  },
  {
   "cell_type": "markdown",
   "id": "daaffd94",
   "metadata": {},
   "source": [
    "Gene list from TSGene database"
   ]
  },
  {
   "cell_type": "code",
   "execution_count": 6,
   "id": "c1ac0bd3",
   "metadata": {},
   "outputs": [
    {
     "name": "stdout",
     "output_type": "stream",
     "text": [
      "Total genes in TSGene database: 1217\n"
     ]
    }
   ],
   "source": [
    "doc = codecs.open('data/tumor_suppressor.txt','rU')\n",
    "tumor_suppressor_df = pd.read_csv(doc, sep='\\t')\n",
    "#print(tumor_suppressor)\n",
    "ts_genes = list(tumor_suppressor_df[\"GeneSymbol\"])\n",
    "print(\"Total genes in TSGene database:\", len(ts_genes))"
   ]
  },
  {
   "cell_type": "code",
   "execution_count": 7,
   "id": "7cb95bdc",
   "metadata": {},
   "outputs": [
    {
     "name": "stdout",
     "output_type": "stream",
     "text": [
      "Combined oncogenes between two databases: 3326\n"
     ]
    }
   ],
   "source": [
    "#Combine all genes from two databases\n",
    "combined_genes_TS_COSMIC = set(census_genes_synonym + ts_genes)\n",
    "print(\"Combined oncogenes between two databases:\",len(combined_genes_TS_COSMIC))"
   ]
  },
  {
   "cell_type": "markdown",
   "id": "fcd7123b",
   "metadata": {},
   "source": [
    "Common genes between genes of reduced features and combined oncogenes of two databases"
   ]
  },
  {
   "cell_type": "code",
   "execution_count": 9,
   "id": "98f92c92",
   "metadata": {},
   "outputs": [
    {
     "name": "stdout",
     "output_type": "stream",
     "text": [
      "Total genes in overall 450k dataset: 35555\n",
      "Common genes between overall 450k dataset and TS+COSMIC oncogenes: 1455\n",
      "\n",
      "\n",
      "Total genes in 450k SMOTE dataset: 1572\n",
      "Common genes between 450k Smote dataset and TS+COSMIC oncogenes: 136\n",
      "\n",
      "\n",
      "Total genes in 450k without SMOTE dataset: 1208\n",
      "Common genes between 450k wothout Smote dataset and TS+COSMIC oncogenes: 88\n",
      "\n",
      "\n",
      "Total genes in overall 27k dataset: 18166\n",
      "Common genes between overall 27k dataset and TS+COSMIC oncogenes: 1214\n",
      "\n",
      "\n",
      "Total genes in 27k SMOTE dataset: 685\n",
      "Common genes between 27k Smote dataset and TS+COSMIC oncogenes: 55\n",
      "\n",
      "\n",
      "Total genes in 27k without SMOTE dataset: 470\n",
      "Common genes between 27k wothout Smote dataset and TS+COSMIC oncogenes: 36\n"
     ]
    }
   ],
   "source": [
    "common_450k_all = list(set(overall_450k_genes).intersection(combined_genes_TS_COSMIC))\n",
    "print(\"Total genes in overall 450k dataset:\", len(overall_450k_genes))\n",
    "print(\"Common genes between overall 450k dataset and TS+COSMIC oncogenes:\", len(common_450k_all))\n",
    "print(\"\\n\")\n",
    "common_450k_smote = list(set(ANOVA_RF_genes_450s).intersection(common_450k_all))\n",
    "print(\"Total genes in 450k SMOTE dataset:\", len(ANOVA_RF_genes_450s))\n",
    "print(\"Common genes between 450k Smote dataset and TS+COSMIC oncogenes:\", len(common_450k_smote))\n",
    "print(\"\\n\")\n",
    "common_450k_wosmote = list(set(ANOVA_RF_genes_450wos).intersection(common_450k_all))\n",
    "print(\"Total genes in 450k without SMOTE dataset:\", len(ANOVA_RF_genes_450wos))\n",
    "print(\"Common genes between 450k wothout Smote dataset and TS+COSMIC oncogenes:\", len(common_450k_wosmote))\n",
    "print(\"\\n\")\n",
    "common_27k_all = list(set(overall_27k_genes).intersection(combined_genes_TS_COSMIC))\n",
    "print(\"Total genes in overall 27k dataset:\", len(overall_27k_genes))\n",
    "print(\"Common genes between overall 27k dataset and TS+COSMIC oncogenes:\", len(common_27k_all))\n",
    "print(\"\\n\")\n",
    "common_27k_smote = list(set(ANOVA_RF_genes_27s).intersection(common_27k_all))\n",
    "print(\"Total genes in 27k SMOTE dataset:\", len(ANOVA_RF_genes_27s))\n",
    "print(\"Common genes between 27k Smote dataset and TS+COSMIC oncogenes:\", len(common_27k_smote))\n",
    "print(\"\\n\")\n",
    "common_27k_wosmote = list(set(ANOVA_RF_genes_27wos).intersection(common_27k_all))\n",
    "print(\"Total genes in 27k without SMOTE dataset:\", len(ANOVA_RF_genes_27wos))\n",
    "print(\"Common genes between 27k wothout Smote dataset and TS+COSMIC oncogenes:\", len(common_27k_wosmote))\n"
   ]
  },
  {
   "cell_type": "code",
   "execution_count": 10,
   "id": "cf5e37e1",
   "metadata": {},
   "outputs": [
    {
     "name": "stdout",
     "output_type": "stream",
     "text": [
      "136\n",
      "55\n",
      "Common between 27k smote, 450k smote genes, and COSMIC+TSgene: ['MYO18B', 'SETBP1', 'NTRK1', 'IGF2R', 'BRF1', 'RTN4IP1', 'ANP32A']\n",
      "Common between 27k wosmote, 450k wosmote genes, and COSMIC+TSgene: ['PAX3', 'HIC1', 'SND1']\n"
     ]
    }
   ],
   "source": [
    "smote_27_450_db = list(set(common_450k_smote).intersection(common_27k_smote))\n",
    "print(len(common_450k_smote))\n",
    "print(len(common_27k_smote))\n",
    "print(\"Common between 27k smote, 450k smote genes, and COSMIC+TSgene:\", (smote_27_450_db))\n",
    "wosmote_27_450_db = list(set(common_450k_wosmote).intersection(common_27k_wosmote))\n",
    "print(\"Common between 27k wosmote, 450k wosmote genes, and COSMIC+TSgene:\", (wosmote_27_450_db))\n"
   ]
  },
  {
   "cell_type": "markdown",
   "id": "560ba6a9",
   "metadata": {},
   "source": [
    "Collected 100 cancer related genes from several resources (https://www.breastcancer.org/risk/risk-factors/genetics, https://www.ncbi.nlm.nih.gov/pmc/articles/PMC4478970/)"
   ]
  },
  {
   "cell_type": "code",
   "execution_count": 13,
   "id": "871a9726",
   "metadata": {},
   "outputs": [
    {
     "name": "stdout",
     "output_type": "stream",
     "text": [
      "18\n",
      "100\n"
     ]
    }
   ],
   "source": [
    "sample_gene_list = [\"AKT1\",\"CCND1\",\"ERBB2\",\"ESR1\",\"ETV6\",\"FOXA1\",\"GATA3\",\"IRS4\",\"MAP2K4\",\"MAP3K1\",\"MAP3K13\",\"NOTCH1\",\"NTRK3\",\"PIK3CA\",\"PPM1D\",\"SALL4\",\"TBX3\",\"TP53\"]\n",
    "print(len(sample_gene_list))\n",
    "additional_genes = [\"BRCA1\", \"BRCA2\",\"PALB2\",\"PTEN\",\"ATM\",\"CDH1\",\"CHEK2\",\"NBN\",\"NF1\",\"STK11\",\"BARD1\",\"BRIP1\",\"MLH1\", \n",
    "                    \"MSH2\", \"MSH6\", \"PMS2\", \"EPCAM\",\"RAD51C\", \"RAD51D\",\"CASP8\",\"CTLA4\",\"NBN\",\"CYP19A1\",\"TERT\",\"XRCC3\",\"AKT1\", \"APC\", \"ATR\", \n",
    "                    \"BABAM1\", \"BAP1\", \"BARD1\", \"BMPR1A\", \"CDK4\", \"CDKN2A\", \"CHEK1\", \"CTNNA1\", \"EPCAM\", \"FAM175A\", \"MLH1\", \"MRE11A\", \n",
    "                    \"MSH2\", \"MSH6\", \"MUTYH\", \"NBN\", \"PIK3CA\", \"PMS2\", \"POLD1\", \"POLE\", \"PRSS1\", \"RAD50\", \"RAD51\", \"RAD51C\", \"RAD51D\", \n",
    "                    \"RET\", \"SDHB\", \"SDHC\", \"SDHD\", \"SMAD4\", \"TP53BP1\", \"VHL\", \"XRCC2\",\"BMPR1A\", \"EPCAM\", \"GALNT12\", \"GREM1\", \n",
    "                    \"MLH1\", \"MSH2\", \"MSH6\", \"MUTYH\", \"PMS2\", \"SMAD4\",\"BARD1\", \"MRE11A\", \"MUTYH\", \"NBN\", \"NF1\", \"RAD50\", \"RAD51C\",\n",
    "                    \"RAD51D\",\"EPCAM\", \"MRE11A\", \"BLM\", \"FANCC\", \"HOXB13\", \"MLH1\", \"MRE11A\", \"XRCC2\",\"AXIN2\", \"BLM\", \"FANCC\", \n",
    "                    \"PALLD\", \"PMS2\", \"RAD50\", \"RAD51C\", \"RAD51D\", \"SMAD4\", \"VHL\", \"XRCC2\", \"PMS1\", \"CDC73\", \"CDKN1C\", \"CDKN2A\", \"FH\", \"FLCN\", \n",
    "                    \"GPC3\", \"MAX\", \"MEN1\", \"MET\", \"NF1\", \"NF2\", \"PHOX2B\", \"PRKAR1A\", \"PTCH1\", \"RAD51C\", \"RAD51D\", \"RET\", \"SDHAF2\", \"SDHB\", \n",
    "                    \"SDHC\", \"SDHD\", \"SUFU\", \"TMEM127\", \"VHL\", \"WT1\",\"ERCC4\", \"RAD51C\", \"RAD51D\", \"XRCC2\", \"FAM175A\", \"FANCA\", \"FANCC\", \"FANCD2\", \n",
    "                    \"FANCE\", \"FANCF\", \"FANCG\", \"MEN1\", \"MLH1\", \"MRE11A\", \"MSH2\", \"MSH3\", \"MSH6\", \"PTCH1\", \"RAD50\", \"RAD51C\", \"RAD51D\", \"SLX4\", \n",
    "                    \"UIMC1\", \"XRCC2\"]\n",
    "sample_gene_list.extend(additional_genes)\n",
    "total_sample_genes = set(sample_gene_list)\n",
    "print(len(total_sample_genes))"
   ]
  },
  {
   "cell_type": "markdown",
   "id": "af543571",
   "metadata": {},
   "source": [
    "Compared 100 sample genes with our reduced gene sets"
   ]
  },
  {
   "cell_type": "code",
   "execution_count": 15,
   "id": "4c3c285c",
   "metadata": {},
   "outputs": [
    {
     "name": "stdout",
     "output_type": "stream",
     "text": [
      "Common genes between 450k all dataset and sample genes: 100\n",
      "Common genes between 450k Smote dataset and sample genes: 9\n",
      "Common genes between 450k without Smote dataset and sample genes: 7\n",
      "Common genes between 27k all dataset and sample genes: 98\n",
      "Common genes between 27k Smote dataset and sample genes: 6\n",
      "Common genes between 27k without Smote dataset and sample genes: ['FAM175A', 'CDKN1C']\n",
      "\n",
      "Common genes between 2 databases and sample genes: 68\n"
     ]
    }
   ],
   "source": [
    "db_common_450k_smote = list(set(overall_450k_genes).intersection(total_sample_genes))\n",
    "print(\"Common genes between 450k all dataset and sample genes:\", len(db_common_450k_smote))\n",
    "db_common_450k_smote = list(set(ANOVA_RF_genes_450s).intersection(total_sample_genes))\n",
    "print(\"Common genes between 450k Smote dataset and sample genes:\", len(db_common_450k_smote))\n",
    "db_common_450k_wosmote = list(set(ANOVA_RF_genes_450wos).intersection(total_sample_genes))\n",
    "print(\"Common genes between 450k without Smote dataset and sample genes:\", len(db_common_450k_wosmote))\n",
    "db_common_450k_smote = list(set(overall_27k_genes).intersection(total_sample_genes))\n",
    "print(\"Common genes between 27k all dataset and sample genes:\", len(db_common_450k_smote))\n",
    "db_common_27k_smote = list(set(ANOVA_RF_genes_27s).intersection(total_sample_genes))\n",
    "print(\"Common genes between 27k Smote dataset and sample genes:\", len(db_common_27k_smote))\n",
    "db_common_27k_wosmote = list(set(ANOVA_RF_genes_27wos).intersection(total_sample_genes))\n",
    "print(\"Common genes between 27k without Smote dataset and sample genes:\", (db_common_27k_wosmote))\n",
    "db_and_sample = list(set(combined_genes_TS_COSMIC).intersection(total_sample_genes))\n",
    "print(\"\\nCommon genes between 2 databases and sample genes:\", len(db_and_sample))"
   ]
  }
 ],
 "metadata": {
  "kernelspec": {
   "display_name": "Python 3 (ipykernel)",
   "language": "python",
   "name": "python3"
  },
  "language_info": {
   "codemirror_mode": {
    "name": "ipython",
    "version": 3
   },
   "file_extension": ".py",
   "mimetype": "text/x-python",
   "name": "python",
   "nbconvert_exporter": "python",
   "pygments_lexer": "ipython3",
   "version": "3.9.7"
  }
 },
 "nbformat": 4,
 "nbformat_minor": 5
}
